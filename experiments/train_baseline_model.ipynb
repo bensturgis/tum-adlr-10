{
 "cells": [
  {
   "cell_type": "code",
   "execution_count": 1,
   "metadata": {},
   "outputs": [],
   "source": [
    "import sys\n",
    "import os\n",
    "\n",
    "# Add the root directory to sys.path\n",
    "sys.path.append(os.path.abspath(\"..\"))"
   ]
  },
  {
   "cell_type": "code",
   "execution_count": 6,
   "metadata": {},
   "outputs": [
    {
     "name": "stdout",
     "output_type": "stream",
     "text": [
      "Epoch 1/10, Loss: 0.197924\n",
      "Epoch 2/10, Loss: 0.001088\n",
      "Epoch 3/10, Loss: 0.000325\n",
      "Epoch 4/10, Loss: 0.000126\n",
      "Epoch 5/10, Loss: 0.000060\n",
      "Epoch 6/10, Loss: 0.000037\n",
      "Epoch 7/10, Loss: 0.000028\n",
      "Epoch 8/10, Loss: 0.000028\n",
      "Epoch 9/10, Loss: 0.000024\n",
      "Epoch 10/10, Loss: 0.000025\n",
      "Model training completed successfully. Weights have been saved as 'baseline_model.pth' in the 'weights' directory.\n"
     ]
    }
   ],
   "source": [
    "from dynamical_systems.mass_spring_damper_system import MassSpringDamperEnv\n",
    "from models.feedforward_nn import FeedforwardNN\n",
    "from random_exploration import random_exploration\n",
    "from train import create_dataloader, train_model\n",
    "\n",
    "import torch\n",
    "import os\n",
    "\n",
    "env = MassSpringDamperEnv()\n",
    "\n",
    "# Hyperparameters\n",
    "NUM_TRAJECTORIES = 200\n",
    "HORIZON = 500\n",
    "BATCH_SIZE = 64\n",
    "NUM_EPOCHS = 10\n",
    "LEARNING_RATE = 1e-3\n",
    "HIDDEN_SIZE = 64\n",
    "\n",
    "# Collect data from the environment\n",
    "states, actions, next_states = random_exploration(env, NUM_TRAJECTORIES, HORIZON)\n",
    "\n",
    "# Create DataLoader for training\n",
    "dataloader = create_dataloader(states, actions, next_states, BATCH_SIZE)\n",
    "\n",
    "# Initialize the dynamics model\n",
    "state_dim = env.observation_space.shape[0]\n",
    "action_dim = env.action_space.shape[0]\n",
    "model = FeedforwardNN(state_dim, action_dim, hidden_size=HIDDEN_SIZE)\n",
    "\n",
    "# Train the model\n",
    "train_model(model, dataloader, NUM_EPOCHS, LEARNING_RATE)\n",
    "\n",
    "# Ensure the 'weights' directory exists\n",
    "os.makedirs('../weights', exist_ok=True)\n",
    "\n",
    "# Save the trained model\n",
    "torch.save(model.state_dict(), '../weights/baseline_model.pth')\n",
    "print(\"Model training completed successfully. \"\n",
    "      \"Weights have been saved as 'baseline_model.pth' in the 'weights' directory.\")"
   ]
  }
 ],
 "metadata": {
  "kernelspec": {
   "display_name": "adlr",
   "language": "python",
   "name": "python3"
  },
  "language_info": {
   "codemirror_mode": {
    "name": "ipython",
    "version": 3
   },
   "file_extension": ".py",
   "mimetype": "text/x-python",
   "name": "python",
   "nbconvert_exporter": "python",
   "pygments_lexer": "ipython3",
   "version": "3.8.20"
  }
 },
 "nbformat": 4,
 "nbformat_minor": 2
}
